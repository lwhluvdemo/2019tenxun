{
  "nbformat": 4,
  "nbformat_minor": 0,
  "metadata": {
    "colab": {
      "name": "model_lgb.ipynb",
      "version": "0.3.2",
      "provenance": [],
      "collapsed_sections": []
    },
    "kernelspec": {
      "name": "python3",
      "display_name": "Python 3"
    }
  },
  "cells": [
    {
      "cell_type": "code",
      "metadata": {
        "id": "r48njNN5iKdo",
        "colab_type": "code",
        "colab": {}
      },
      "source": [
        "from keras.models import Sequential\n",
        "from keras.layers import Dense\n",
        "from keras.layers import Dropout, BatchNormalization\n",
        "from keras.layers.advanced_activations import PReLU\n",
        "from keras.layers.noise import GaussianDropout\n",
        "from keras.optimizers import Adam\n",
        "from keras.wrappers.scikit_learn import KerasRegressor\n",
        "from sklearn.preprocessing import StandardScaler\n",
        "from sklearn.preprocessing import Imputer\n",
        "import xgboost as xgb\n",
        "import lightgbm as lgb\n",
        "from sklearn.model_selection import StratifiedKFold"
      ],
      "execution_count": 0,
      "outputs": []
    },
    {
      "cell_type": "code",
      "metadata": {
        "id": "1XqeYhg0iEVq",
        "colab_type": "code",
        "colab": {}
      },
      "source": [
        "def gini(y, pred):\n",
        "    g = np.asarray(np.c_[y, pred, np.arange(len(y)) ], dtype=np.float)\n",
        "    g = g[np.lexsort((g[:,2], -1*g[:,1]))]\n",
        "    gs = g[:,0].cumsum().sum() / g[:,0].sum()\n",
        "    gs -= (len(y) + 1) / 2.\n",
        "    return gs / len(y)\n",
        "\n",
        "def gini_lgb(preds, dtrain):\n",
        "    y = list(dtrain.get_label())\n",
        "    score = gini(y, preds) / gini(y, y)\n",
        "    return 'gini', score, True"
      ],
      "execution_count": 0,
      "outputs": []
    },
    {
      "cell_type": "code",
      "metadata": {
        "id": "zawxhJKEiDii",
        "colab_type": "code",
        "colab": {}
      },
      "source": [
        "train_df = train.drop(['target','Modify_field','Operation_type','value_after_operation'], axis=1)\n",
        "X = train_df.values\n",
        "\n",
        "features = train_df.columns\n",
        "\n",
        "target = train['target']\n",
        "y = train['target'].values"
      ],
      "execution_count": 0,
      "outputs": []
    },
    {
      "cell_type": "code",
      "metadata": {
        "id": "6PSzQJw3hz1q",
        "colab_type": "code",
        "colab": {}
      },
      "source": [
        "nrounds=500\n",
        "kfold = 5\n",
        "\n",
        "params = {'max_bin':20, 'learning_rate' : 0.002, 'boosting_type':'gbdt',  'objective': 'regression', 'metric': 'l1', 'max_depth':10,\n",
        "          'feature_fraction': 0.8, 'bagging_fraction':0.9, 'bagging_freq':20, 'min_data': 1000,'num_leaves':512}\n",
        "\n",
        "folds = StratifiedKFold(n_splits=kfold, shuffle=False, random_state=1)\n",
        "oof = np.zeros(len(train))\n",
        "predictions = np.zeros(len(test_sample))\n",
        "\n",
        "for fold_, (trn_idx, val_idx) in enumerate(folds.split(X, y)):\n",
        "    print(\"Fold {}\".format(fold_))\n",
        "    trn_data = lgb.Dataset(train_df.iloc[trn_idx][features], label=target.iloc[trn_idx],categorical_feature=['Product_Types','Product_id','ad_account_id','ad_id','ad_industry_id'])\n",
        "    val_data = lgb.Dataset(train_df.iloc[val_idx][features], label=target.iloc[val_idx],categorical_feature=['Product_Types','Product_id','ad_account_id','ad_id','ad_industry_id')\n",
        "\n",
        "    clf = lgb.train(params, trn_data, nrounds, valid_sets = [trn_data, val_data],feval=gini_lgb, verbose_eval=100, early_stopping_rounds = 300)\n",
        "\n",
        "    oof[val_idx] = clf.predict(train_df.iloc[val_idx][features], num_iteration=clf.best_iteration)\n",
        "    \n",
        "    predictions += clf.predict(test_sample[features], num_iteration=clf.best_iteration) / folds.n_splits\n",
        "\n",
        "print(\"CV score: {:<8.5f}\".format(r2_score(target, oof)))"
      ],
      "execution_count": 0,
      "outputs": []
    }
  ]
}