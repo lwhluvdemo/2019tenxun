{
  "nbformat": 4,
  "nbformat_minor": 0,
  "metadata": {
    "colab": {
      "name": "Btarget_read.ipynb",
      "version": "0.3.2",
      "provenance": [],
      "collapsed_sections": []
    },
    "kernelspec": {
      "name": "python3",
      "display_name": "Python 3"
    }
  },
  "cells": [
    {
      "cell_type": "code",
      "metadata": {
        "id": "kybemNVx02cv",
        "colab_type": "code",
        "colab": {}
      },
      "source": [
        "import pandas as pd\n",
        "import numpy as np\n",
        "import seaborn as sns\n",
        "%matplotlib inline\n",
        "py.init_notebook_mode(connected=True)\n",
        "import warnings\n",
        "warnings.filterwarnings('ignore')\n",
        "import time,datetime\n",
        "import gc\n",
        "\n",
        "total_Exposure_Log_path = ''\n",
        "# user_data_path = 'https://lwh-tenxun-test.oss-cn-shenzhen.aliyuncs.com/testA/user_data.csv'\n",
        "\n",
        "Btest_sample_new_path = ''"
      ],
      "execution_count": 0,
      "outputs": []
    },
    {
      "cell_type": "code",
      "metadata": {
        "id": "wfNpx9Da06pm",
        "colab_type": "code",
        "colab": {}
      },
      "source": [
        "Btest_sample = pd.read_csv(Btest_sample_new_path,sep='\\t',names=['Sample_id','ad_id','Creation_time','ad_size','ad_industry_id','Product_Types',\n",
        "                                                           'Product_id','ad_account_id','Delivery_period','Crowd_orientation','ad_bid'])\n",
        "# Btest_sample['Creation_time'] = pd.to_datetime(Btest_sample['Creation_time'],unit='s')\n",
        "Btestlist = Btest_sample.ad_id.unique()"
      ],
      "execution_count": 0,
      "outputs": []
    },
    {
      "cell_type": "code",
      "metadata": {
        "id": "_Yav1qxB0_X7",
        "colab_type": "code",
        "colab": {}
      },
      "source": [
        "total_Exposure_Log = pd.read_csv(total_Exposure_Log_path,sep='\\t',usecols = [1,4,6],\n",
        "                                 names = ['ad_request_time','ad_id','bid'],header = None,iterator = True,low_memory = False)\n",
        "n = 3000\n",
        "temp = pd.DataFrame()\n",
        "for i in range(n):\n",
        "    try:\n",
        "        log = total_Exposure_Log.get_chunk(1000000)\n",
        "        log.drop_duplicates(keep = 'first',inplace = True)\n",
        "        log = log[log['ad_id'].isin(Btestlist)]\n",
        "        if (temp.empty):\n",
        "            temp = log\n",
        "        else:\n",
        "            temp = temp.append(log,ignore_index = True)\n",
        "    except StopIteration:\n",
        "        break\n",
        "temp['ad_request_time'] = pd.to_datetime(temp['ad_request_time'],unit='s')"
      ],
      "execution_count": 0,
      "outputs": []
    },
    {
      "cell_type": "code",
      "metadata": {
        "id": "kimJYzMN1HR3",
        "colab_type": "code",
        "colab": {}
      },
      "source": [
        "temp['month'] = temp['ad_request_time'].dt.month\n",
        "temp['day'] = temp['ad_request_time'].dt.day"
      ],
      "execution_count": 0,
      "outputs": []
    },
    {
      "cell_type": "code",
      "metadata": {
        "id": "vr57vheR1MoV",
        "colab_type": "code",
        "colab": {}
      },
      "source": [
        "y_train = temp.groupby(['ad_id','month','day']).size().reset_index(name='target')\n",
        "# y_train = y_train.drop(['month','day'],axis=1)"
      ],
      "execution_count": 0,
      "outputs": []
    },
    {
      "cell_type": "code",
      "metadata": {
        "id": "qVmaocoU1QAb",
        "colab_type": "code",
        "colab": {}
      },
      "source": [
        "temp = temp.drop(['month','day'],axis = 1)\n",
        "ad_bid = temp['bid'].groupby([temp['ad_id']]).mean().reset_index(name='ad_bid')\n",
        "temp = temp.drop(['bid'],axis = 1)\n",
        "ad_bid.head()"
      ],
      "execution_count": 0,
      "outputs": []
    },
    {
      "cell_type": "code",
      "metadata": {
        "id": "PWjI178t1TQo",
        "colab_type": "code",
        "colab": {}
      },
      "source": [
        "train1 = y_train.merge(ad_bid, on='ad_id', how='left')"
      ],
      "execution_count": 0,
      "outputs": []
    },
    {
      "cell_type": "code",
      "metadata": {
        "id": "DRruJczF1X91",
        "colab_type": "code",
        "colab": {}
      },
      "source": [
        "train1.to_csv('targrtB_data.csv', index=False)"
      ],
      "execution_count": 0,
      "outputs": []
    }
  ]
}