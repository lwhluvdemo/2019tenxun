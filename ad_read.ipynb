{
  "nbformat": 4,
  "nbformat_minor": 0,
  "metadata": {
    "colab": {
      "name": "ad_read.ipynb",
      "version": "0.3.2",
      "provenance": [],
      "collapsed_sections": []
    },
    "kernelspec": {
      "name": "python3",
      "display_name": "Python 3"
    }
  },
  "cells": [
    {
      "cell_type": "code",
      "metadata": {
        "id": "oNmpCxFk9SVG",
        "colab_type": "code",
        "colab": {}
      },
      "source": [
        "import numpy as np  #numpy\n",
        "import pandas as pd  #pandas\n",
        "import re\n",
        "import warnings\n",
        "warnings.filterwarnings('ignore')\n",
        "import time\n",
        "import datetime as dt\n",
        "\n",
        "ad_operation_path = 'https://lwh-tenxun-test.oss-cn-shenzhen.aliyuncs.com/testA/ad_operation.csv?Expires=1557984966&OSSAccessKeyId=TMP.AgG_TFzSypSX20nT3DHD243rxSSuYKGdas9R9OGgCyqsJcEubKZJnNzY-8CqMC4CFQCYuRATpZYgFqpmmBCN1AcTDMWj3QIVAJg11hNqoRRtN1xVLj9fe2rk3vne&Signature=lnpHVAxuWc%2BMVUc1oTE%2BFyU0lGE%3D'\n",
        "ad_static_feature_path = 'https://lwh-tenxun-test.oss-cn-shenzhen.aliyuncs.com/testA/ad_static_feature.csv?Expires=1558046221&OSSAccessKeyId=TMP.AgG_TFzSypSX20nT3DHD243rxSSuYKGdas9R9OGgCyqsJcEubKZJnNzY-8CqMC4CFQCYuRATpZYgFqpmmBCN1AcTDMWj3QIVAJg11hNqoRRtN1xVLj9fe2rk3vne&Signature=Qs3R0AgKa6J7yu3OM0LpfqWM9Xg%3D'\n",
        "test_sample_path = 'https://lwh-tenxun-test.oss-cn-shenzhen.aliyuncs.com/testA/test_sample.csv?Expires=1558046246&OSSAccessKeyId=TMP.AgG_TFzSypSX20nT3DHD243rxSSuYKGdas9R9OGgCyqsJcEubKZJnNzY-8CqMC4CFQCYuRATpZYgFqpmmBCN1AcTDMWj3QIVAJg11hNqoRRtN1xVLj9fe2rk3vne&Signature=T70m1XD6oaZOa3PGSWzjTnqJ4%2Fw%3D'\n",
        "\n",
        "ad_operation = pd.read_csv(ad_operation_path,sep='\\t',names=['ad_id','Change_time','Operation_type',\n",
        "                                                             'Modify_field','value_after_operation'])\n",
        "ad_static_feature = pd.read_csv(ad_static_feature_path,sep='\\t',names=['ad_id','Creation_time','ad_account_id','Product_id',\n",
        "                                                                       'Product_Types','ad_industry_id','ad_size'])\n",
        "test_sample = pd.read_csv(test_sample_path,sep='\\t',names=['Sample_id','ad_id','Creation_time','ad_size','ad_industry_id','Product_Types',\n",
        "                                                           'Product_id','ad_account_id','Delivery_period','Crowd_orientation','bid'])\n",
        "\n"
      ],
      "execution_count": 0,
      "outputs": []
    },
    {
      "cell_type": "code",
      "metadata": {
        "id": "R87PxqBG-KyG",
        "colab_type": "code",
        "colab": {}
      },
      "source": [
        "test_sample['Creation_time'] = pd.to_datetime(test_sample['Creation_time'],unit='s')\n",
        "ad_operation['Change_time'] = pd.to_datetime(ad_operation.Change_time, format='%Y%m%d%H%M%S', errors='coerce')\n",
        "ad_static_feature['Creation_time'] = pd.to_datetime(ad_static_feature['Creation_time'],unit='s')"
      ],
      "execution_count": 0,
      "outputs": []
    },
    {
      "cell_type": "markdown",
      "metadata": {
        "id": "iWKRAgYE8y5g",
        "colab_type": "text"
      },
      "source": [
        "### 静态数据"
      ]
    },
    {
      "cell_type": "code",
      "metadata": {
        "id": "RdQPn47B8f8R",
        "colab_type": "code",
        "colab": {}
      },
      "source": [
        "ad_static_feature = ad_static_feature[~ad_static_feature['Product_id'].isin(['-1',-1.0])]"
      ],
      "execution_count": 0,
      "outputs": []
    },
    {
      "cell_type": "code",
      "metadata": {
        "id": "vDPX-ifE8inS",
        "colab_type": "code",
        "colab": {
          "base_uri": "https://localhost:8080/",
          "height": 202
        },
        "outputId": "38ef1dc0-5c2e-44dd-bc22-3a25cac67e84"
      },
      "source": [
        "\n",
        "ad_static_feature = (ad_static_feature.set_index(['ad_id','Creation_time','ad_account_id','Product_id'\n",
        "                                                  ,'Product_Types','ad_industry_id']).astype(str)\n",
        "   .stack()\n",
        "   .str.split(',', expand=True)\n",
        "   .stack()\n",
        "   .unstack(-2)\n",
        "   .reset_index(-1, drop=True)\n",
        "   .reset_index()\n",
        ")\n",
        "\n",
        "ad_static_feature.head()"
      ],
      "execution_count": 10,
      "outputs": [
        {
          "output_type": "execute_result",
          "data": {
            "text/html": [
              "<div>\n",
              "<style scoped>\n",
              "    .dataframe tbody tr th:only-of-type {\n",
              "        vertical-align: middle;\n",
              "    }\n",
              "\n",
              "    .dataframe tbody tr th {\n",
              "        vertical-align: top;\n",
              "    }\n",
              "\n",
              "    .dataframe thead th {\n",
              "        text-align: right;\n",
              "    }\n",
              "</style>\n",
              "<table border=\"1\" class=\"dataframe\">\n",
              "  <thead>\n",
              "    <tr style=\"text-align: right;\">\n",
              "      <th></th>\n",
              "      <th>ad_id</th>\n",
              "      <th>Creation_time</th>\n",
              "      <th>ad_account_id</th>\n",
              "      <th>Product_id</th>\n",
              "      <th>Product_Types</th>\n",
              "      <th>ad_industry_id</th>\n",
              "      <th>ad_size</th>\n",
              "    </tr>\n",
              "  </thead>\n",
              "  <tbody>\n",
              "    <tr>\n",
              "      <th>0</th>\n",
              "      <td>1</td>\n",
              "      <td>2019-02-20 02:51:34</td>\n",
              "      <td>3838</td>\n",
              "      <td>8789</td>\n",
              "      <td>18</td>\n",
              "      <td>117</td>\n",
              "      <td>64</td>\n",
              "    </tr>\n",
              "    <tr>\n",
              "      <th>1</th>\n",
              "      <td>2</td>\n",
              "      <td>2019-02-18 03:21:00</td>\n",
              "      <td>12827</td>\n",
              "      <td>10418</td>\n",
              "      <td>18</td>\n",
              "      <td>117</td>\n",
              "      <td>36</td>\n",
              "    </tr>\n",
              "    <tr>\n",
              "      <th>2</th>\n",
              "      <td>3</td>\n",
              "      <td>2019-03-06 10:01:03</td>\n",
              "      <td>1520</td>\n",
              "      <td>3911</td>\n",
              "      <td>18</td>\n",
              "      <td>232</td>\n",
              "      <td>64</td>\n",
              "    </tr>\n",
              "    <tr>\n",
              "      <th>3</th>\n",
              "      <td>6</td>\n",
              "      <td>2019-02-16 11:46:49</td>\n",
              "      <td>22180</td>\n",
              "      <td>28082</td>\n",
              "      <td>18</td>\n",
              "      <td>117</td>\n",
              "      <td>36</td>\n",
              "    </tr>\n",
              "    <tr>\n",
              "      <th>4</th>\n",
              "      <td>8</td>\n",
              "      <td>2019-03-21 11:58:22</td>\n",
              "      <td>29275</td>\n",
              "      <td>342</td>\n",
              "      <td>18</td>\n",
              "      <td>232</td>\n",
              "      <td>40</td>\n",
              "    </tr>\n",
              "  </tbody>\n",
              "</table>\n",
              "</div>"
            ],
            "text/plain": [
              "   ad_id       Creation_time  ...  ad_industry_id  ad_size\n",
              "0      1 2019-02-20 02:51:34  ...             117       64\n",
              "1      2 2019-02-18 03:21:00  ...             117       36\n",
              "2      3 2019-03-06 10:01:03  ...             232       64\n",
              "3      6 2019-02-16 11:46:49  ...             117       36\n",
              "4      8 2019-03-21 11:58:22  ...             232       40\n",
              "\n",
              "[5 rows x 7 columns]"
            ]
          },
          "metadata": {
            "tags": []
          },
          "execution_count": 10
        }
      ]
    },
    {
      "cell_type": "code",
      "metadata": {
        "id": "OI3whmpl8mjD",
        "colab_type": "code",
        "colab": {}
      },
      "source": [
        "ad_static_feature['ad_size'] = pd.to_numeric(ad_static_feature['ad_size'], errors='coerce')\n",
        "ad_static_feature.ad_size = ad_static_feature.ad_size.fillna(ad_static_feature.ad_size.median())\n",
        "ad_static_feature.ad_size = ad_static_feature.ad_size.astype(int)"
      ],
      "execution_count": 0,
      "outputs": []
    },
    {
      "cell_type": "code",
      "metadata": {
        "id": "pMiF01AU8pKN",
        "colab_type": "code",
        "colab": {}
      },
      "source": [
        "ad_static_feature = (ad_static_feature.set_index(['ad_id','Creation_time','ad_account_id'\n",
        "                                                  ,'Product_Types','ad_size']).astype(str)\n",
        "   .stack()\n",
        "   .str.split(',', expand=True)\n",
        "   .stack()\n",
        "   .unstack(-2)\n",
        "   .reset_index(-1, drop=True)\n",
        "   .reset_index()\n",
        ")"
      ],
      "execution_count": 0,
      "outputs": []
    },
    {
      "cell_type": "code",
      "metadata": {
        "id": "6t-NVn958rZS",
        "colab_type": "code",
        "colab": {
          "base_uri": "https://localhost:8080/",
          "height": 418
        },
        "outputId": "d2c78dc3-8c91-4705-d513-0fc7f7a2e925"
      },
      "source": [
        "ad_static_feature = ad_static_feature.drop_duplicates(subset=['ad_id','Creation_time','ad_account_id','Product_Types','ad_size','ad_industry_id'] )\n",
        "ad_static_feature = ad_static_feature.drop_duplicates(subset=['ad_id','Creation_time','ad_account_id','Product_Types','ad_size','Product_id'] )\n",
        "ad_static_feature = ad_static_feature.dropna()\n",
        "ad_static_feature.ad_industry_id = ad_static_feature.ad_industry_id.astype(int)\n",
        "ad_static_feature.Product_id = ad_static_feature.Product_id.astype(int)\n",
        "\n",
        "ad_static_feature.info()\n",
        "ad_static_feature.head()"
      ],
      "execution_count": 13,
      "outputs": [
        {
          "output_type": "stream",
          "text": [
            "<class 'pandas.core.frame.DataFrame'>\n",
            "Int64Index: 492384 entries, 0 to 492383\n",
            "Data columns (total 7 columns):\n",
            "ad_id             492384 non-null int64\n",
            "Creation_time     492384 non-null datetime64[ns]\n",
            "ad_account_id     492384 non-null int64\n",
            "Product_Types     492384 non-null int64\n",
            "ad_size           492384 non-null int64\n",
            "Product_id        492384 non-null int64\n",
            "ad_industry_id    492384 non-null int64\n",
            "dtypes: datetime64[ns](1), int64(6)\n",
            "memory usage: 30.1 MB\n"
          ],
          "name": "stdout"
        },
        {
          "output_type": "execute_result",
          "data": {
            "text/html": [
              "<div>\n",
              "<style scoped>\n",
              "    .dataframe tbody tr th:only-of-type {\n",
              "        vertical-align: middle;\n",
              "    }\n",
              "\n",
              "    .dataframe tbody tr th {\n",
              "        vertical-align: top;\n",
              "    }\n",
              "\n",
              "    .dataframe thead th {\n",
              "        text-align: right;\n",
              "    }\n",
              "</style>\n",
              "<table border=\"1\" class=\"dataframe\">\n",
              "  <thead>\n",
              "    <tr style=\"text-align: right;\">\n",
              "      <th></th>\n",
              "      <th>ad_id</th>\n",
              "      <th>Creation_time</th>\n",
              "      <th>ad_account_id</th>\n",
              "      <th>Product_Types</th>\n",
              "      <th>ad_size</th>\n",
              "      <th>Product_id</th>\n",
              "      <th>ad_industry_id</th>\n",
              "    </tr>\n",
              "  </thead>\n",
              "  <tbody>\n",
              "    <tr>\n",
              "      <th>0</th>\n",
              "      <td>1</td>\n",
              "      <td>2019-02-20 02:51:34</td>\n",
              "      <td>3838</td>\n",
              "      <td>18</td>\n",
              "      <td>64</td>\n",
              "      <td>8789</td>\n",
              "      <td>117</td>\n",
              "    </tr>\n",
              "    <tr>\n",
              "      <th>1</th>\n",
              "      <td>2</td>\n",
              "      <td>2019-02-18 03:21:00</td>\n",
              "      <td>12827</td>\n",
              "      <td>18</td>\n",
              "      <td>36</td>\n",
              "      <td>10418</td>\n",
              "      <td>117</td>\n",
              "    </tr>\n",
              "    <tr>\n",
              "      <th>2</th>\n",
              "      <td>3</td>\n",
              "      <td>2019-03-06 10:01:03</td>\n",
              "      <td>1520</td>\n",
              "      <td>18</td>\n",
              "      <td>64</td>\n",
              "      <td>3911</td>\n",
              "      <td>232</td>\n",
              "    </tr>\n",
              "    <tr>\n",
              "      <th>3</th>\n",
              "      <td>6</td>\n",
              "      <td>2019-02-16 11:46:49</td>\n",
              "      <td>22180</td>\n",
              "      <td>18</td>\n",
              "      <td>36</td>\n",
              "      <td>28082</td>\n",
              "      <td>117</td>\n",
              "    </tr>\n",
              "    <tr>\n",
              "      <th>4</th>\n",
              "      <td>8</td>\n",
              "      <td>2019-03-21 11:58:22</td>\n",
              "      <td>29275</td>\n",
              "      <td>18</td>\n",
              "      <td>40</td>\n",
              "      <td>342</td>\n",
              "      <td>232</td>\n",
              "    </tr>\n",
              "  </tbody>\n",
              "</table>\n",
              "</div>"
            ],
            "text/plain": [
              "   ad_id       Creation_time  ...  Product_id  ad_industry_id\n",
              "0      1 2019-02-20 02:51:34  ...        8789             117\n",
              "1      2 2019-02-18 03:21:00  ...       10418             117\n",
              "2      3 2019-03-06 10:01:03  ...        3911             232\n",
              "3      6 2019-02-16 11:46:49  ...       28082             117\n",
              "4      8 2019-03-21 11:58:22  ...         342             232\n",
              "\n",
              "[5 rows x 7 columns]"
            ]
          },
          "metadata": {
            "tags": []
          },
          "execution_count": 13
        }
      ]
    },
    {
      "cell_type": "code",
      "metadata": {
        "id": "HewdeIM18wE8",
        "colab_type": "code",
        "colab": {
          "base_uri": "https://localhost:8080/",
          "height": 202
        },
        "outputId": "2d7c8281-8687-4eae-dbcb-357c2f58722b"
      },
      "source": [
        "ad_static_feature['Creation_time'] = ad_static_feature['Creation_time'].dt.date\n",
        "ad_static_feature.head()"
      ],
      "execution_count": 14,
      "outputs": [
        {
          "output_type": "execute_result",
          "data": {
            "text/html": [
              "<div>\n",
              "<style scoped>\n",
              "    .dataframe tbody tr th:only-of-type {\n",
              "        vertical-align: middle;\n",
              "    }\n",
              "\n",
              "    .dataframe tbody tr th {\n",
              "        vertical-align: top;\n",
              "    }\n",
              "\n",
              "    .dataframe thead th {\n",
              "        text-align: right;\n",
              "    }\n",
              "</style>\n",
              "<table border=\"1\" class=\"dataframe\">\n",
              "  <thead>\n",
              "    <tr style=\"text-align: right;\">\n",
              "      <th></th>\n",
              "      <th>ad_id</th>\n",
              "      <th>Creation_time</th>\n",
              "      <th>ad_account_id</th>\n",
              "      <th>Product_Types</th>\n",
              "      <th>ad_size</th>\n",
              "      <th>Product_id</th>\n",
              "      <th>ad_industry_id</th>\n",
              "    </tr>\n",
              "  </thead>\n",
              "  <tbody>\n",
              "    <tr>\n",
              "      <th>0</th>\n",
              "      <td>1</td>\n",
              "      <td>2019-02-20</td>\n",
              "      <td>3838</td>\n",
              "      <td>18</td>\n",
              "      <td>64</td>\n",
              "      <td>8789</td>\n",
              "      <td>117</td>\n",
              "    </tr>\n",
              "    <tr>\n",
              "      <th>1</th>\n",
              "      <td>2</td>\n",
              "      <td>2019-02-18</td>\n",
              "      <td>12827</td>\n",
              "      <td>18</td>\n",
              "      <td>36</td>\n",
              "      <td>10418</td>\n",
              "      <td>117</td>\n",
              "    </tr>\n",
              "    <tr>\n",
              "      <th>2</th>\n",
              "      <td>3</td>\n",
              "      <td>2019-03-06</td>\n",
              "      <td>1520</td>\n",
              "      <td>18</td>\n",
              "      <td>64</td>\n",
              "      <td>3911</td>\n",
              "      <td>232</td>\n",
              "    </tr>\n",
              "    <tr>\n",
              "      <th>3</th>\n",
              "      <td>6</td>\n",
              "      <td>2019-02-16</td>\n",
              "      <td>22180</td>\n",
              "      <td>18</td>\n",
              "      <td>36</td>\n",
              "      <td>28082</td>\n",
              "      <td>117</td>\n",
              "    </tr>\n",
              "    <tr>\n",
              "      <th>4</th>\n",
              "      <td>8</td>\n",
              "      <td>2019-03-21</td>\n",
              "      <td>29275</td>\n",
              "      <td>18</td>\n",
              "      <td>40</td>\n",
              "      <td>342</td>\n",
              "      <td>232</td>\n",
              "    </tr>\n",
              "  </tbody>\n",
              "</table>\n",
              "</div>"
            ],
            "text/plain": [
              "   ad_id Creation_time  ad_account_id  ...  ad_size  Product_id  ad_industry_id\n",
              "0      1    2019-02-20           3838  ...       64        8789             117\n",
              "1      2    2019-02-18          12827  ...       36       10418             117\n",
              "2      3    2019-03-06           1520  ...       64        3911             232\n",
              "3      6    2019-02-16          22180  ...       36       28082             117\n",
              "4      8    2019-03-21          29275  ...       40         342             232\n",
              "\n",
              "[5 rows x 7 columns]"
            ]
          },
          "metadata": {
            "tags": []
          },
          "execution_count": 14
        }
      ]
    },
    {
      "cell_type": "markdown",
      "metadata": {
        "id": "MBbypV6R85NO",
        "colab_type": "text"
      },
      "source": [
        "### 操作数据"
      ]
    },
    {
      "cell_type": "code",
      "metadata": {
        "id": "ehKZehQK8790",
        "colab_type": "code",
        "colab": {
          "base_uri": "https://localhost:8080/",
          "height": 202
        },
        "outputId": "14121cf8-3b8a-4d53-cf52-cd8694306388"
      },
      "source": [
        "ad_operation = ad_operation.replace({'Change_time':0},np.nan)\n",
        "ad_operation = ad_operation[~ad_operation['value_after_operation'].isin(['0'])]\n",
        "ad_operation = ad_operation.rename(columns={'Change_time':'Creation_time'})\n",
        "ad_operation['Creation_time'] = ad_operation['Creation_time'].dt.date\n",
        "ad_operation.head()"
      ],
      "execution_count": 15,
      "outputs": [
        {
          "output_type": "execute_result",
          "data": {
            "text/html": [
              "<div>\n",
              "<style scoped>\n",
              "    .dataframe tbody tr th:only-of-type {\n",
              "        vertical-align: middle;\n",
              "    }\n",
              "\n",
              "    .dataframe tbody tr th {\n",
              "        vertical-align: top;\n",
              "    }\n",
              "\n",
              "    .dataframe thead th {\n",
              "        text-align: right;\n",
              "    }\n",
              "</style>\n",
              "<table border=\"1\" class=\"dataframe\">\n",
              "  <thead>\n",
              "    <tr style=\"text-align: right;\">\n",
              "      <th></th>\n",
              "      <th>ad_id</th>\n",
              "      <th>Creation_time</th>\n",
              "      <th>Operation_type</th>\n",
              "      <th>Modify_field</th>\n",
              "      <th>value_after_operation</th>\n",
              "    </tr>\n",
              "  </thead>\n",
              "  <tbody>\n",
              "    <tr>\n",
              "      <th>0</th>\n",
              "      <td>593323</td>\n",
              "      <td>NaT</td>\n",
              "      <td>2</td>\n",
              "      <td>2</td>\n",
              "      <td>90</td>\n",
              "    </tr>\n",
              "    <tr>\n",
              "      <th>1</th>\n",
              "      <td>593323</td>\n",
              "      <td>NaT</td>\n",
              "      <td>2</td>\n",
              "      <td>3</td>\n",
              "      <td>all</td>\n",
              "    </tr>\n",
              "    <tr>\n",
              "      <th>2</th>\n",
              "      <td>593323</td>\n",
              "      <td>NaT</td>\n",
              "      <td>2</td>\n",
              "      <td>4</td>\n",
              "      <td>281474976710655,281474976710655,28147497671065...</td>\n",
              "    </tr>\n",
              "    <tr>\n",
              "      <th>4</th>\n",
              "      <td>593323</td>\n",
              "      <td>2019-02-18</td>\n",
              "      <td>1</td>\n",
              "      <td>2</td>\n",
              "      <td>90</td>\n",
              "    </tr>\n",
              "    <tr>\n",
              "      <th>5</th>\n",
              "      <td>593323</td>\n",
              "      <td>2019-02-18</td>\n",
              "      <td>1</td>\n",
              "      <td>1</td>\n",
              "      <td>1</td>\n",
              "    </tr>\n",
              "  </tbody>\n",
              "</table>\n",
              "</div>"
            ],
            "text/plain": [
              "    ad_id  ...                              value_after_operation\n",
              "0  593323  ...                                                 90\n",
              "1  593323  ...                                                all\n",
              "2  593323  ...  281474976710655,281474976710655,28147497671065...\n",
              "4  593323  ...                                                 90\n",
              "5  593323  ...                                                  1\n",
              "\n",
              "[5 rows x 5 columns]"
            ]
          },
          "metadata": {
            "tags": []
          },
          "execution_count": 15
        }
      ]
    },
    {
      "cell_type": "markdown",
      "metadata": {
        "id": "1TDyJsUO9I4B",
        "colab_type": "text"
      },
      "source": [
        "### 合并"
      ]
    },
    {
      "cell_type": "code",
      "metadata": {
        "id": "xCCwiHFE9Hgr",
        "colab_type": "code",
        "colab": {
          "base_uri": "https://localhost:8080/",
          "height": 222
        },
        "outputId": "7e749c87-6021-43fd-d8ca-ab3944bc8504"
      },
      "source": [
        "ad_data = ad_operation.combine_first(ad_static_feature)\n",
        "ad_data = ad_data.dropna()\n",
        "ad_data['Modify_field'] = ad_data['Modify_field'].astype(int)\n",
        "ad_data['Operation_type'] = ad_data['Operation_type'].astype(int)\n",
        "ad_data['Product_Types'] = ad_data['Product_Types'].astype(int)\n",
        "ad_data['Product_id'] = ad_data['Product_id'].astype(int)\n",
        "ad_data['ad_account_id'] = ad_data['ad_account_id'].astype(int)\n",
        "ad_data['ad_id'] = ad_data['ad_id'].astype(int)\n",
        "ad_data['ad_industry_id'] = ad_data['ad_industry_id'].astype(int)\n",
        "ad_data['ad_size'] = ad_data['ad_size'].astype(int)\n",
        "ad_data.head()"
      ],
      "execution_count": 16,
      "outputs": [
        {
          "output_type": "execute_result",
          "data": {
            "text/html": [
              "<div>\n",
              "<style scoped>\n",
              "    .dataframe tbody tr th:only-of-type {\n",
              "        vertical-align: middle;\n",
              "    }\n",
              "\n",
              "    .dataframe tbody tr th {\n",
              "        vertical-align: top;\n",
              "    }\n",
              "\n",
              "    .dataframe thead th {\n",
              "        text-align: right;\n",
              "    }\n",
              "</style>\n",
              "<table border=\"1\" class=\"dataframe\">\n",
              "  <thead>\n",
              "    <tr style=\"text-align: right;\">\n",
              "      <th></th>\n",
              "      <th>Creation_time</th>\n",
              "      <th>Modify_field</th>\n",
              "      <th>Operation_type</th>\n",
              "      <th>Product_Types</th>\n",
              "      <th>Product_id</th>\n",
              "      <th>ad_account_id</th>\n",
              "      <th>ad_id</th>\n",
              "      <th>ad_industry_id</th>\n",
              "      <th>ad_size</th>\n",
              "      <th>value_after_operation</th>\n",
              "    </tr>\n",
              "  </thead>\n",
              "  <tbody>\n",
              "    <tr>\n",
              "      <th>0</th>\n",
              "      <td>2019-02-20</td>\n",
              "      <td>2</td>\n",
              "      <td>2</td>\n",
              "      <td>18</td>\n",
              "      <td>8789</td>\n",
              "      <td>3838</td>\n",
              "      <td>593323</td>\n",
              "      <td>117</td>\n",
              "      <td>64</td>\n",
              "      <td>90</td>\n",
              "    </tr>\n",
              "    <tr>\n",
              "      <th>1</th>\n",
              "      <td>2019-02-18</td>\n",
              "      <td>3</td>\n",
              "      <td>2</td>\n",
              "      <td>18</td>\n",
              "      <td>10418</td>\n",
              "      <td>12827</td>\n",
              "      <td>593323</td>\n",
              "      <td>117</td>\n",
              "      <td>36</td>\n",
              "      <td>all</td>\n",
              "    </tr>\n",
              "    <tr>\n",
              "      <th>2</th>\n",
              "      <td>2019-03-06</td>\n",
              "      <td>4</td>\n",
              "      <td>2</td>\n",
              "      <td>18</td>\n",
              "      <td>3911</td>\n",
              "      <td>1520</td>\n",
              "      <td>593323</td>\n",
              "      <td>232</td>\n",
              "      <td>64</td>\n",
              "      <td>281474976710655,281474976710655,28147497671065...</td>\n",
              "    </tr>\n",
              "    <tr>\n",
              "      <th>4</th>\n",
              "      <td>2019-02-18</td>\n",
              "      <td>2</td>\n",
              "      <td>1</td>\n",
              "      <td>18</td>\n",
              "      <td>342</td>\n",
              "      <td>29275</td>\n",
              "      <td>593323</td>\n",
              "      <td>232</td>\n",
              "      <td>40</td>\n",
              "      <td>90</td>\n",
              "    </tr>\n",
              "    <tr>\n",
              "      <th>5</th>\n",
              "      <td>2019-02-18</td>\n",
              "      <td>1</td>\n",
              "      <td>1</td>\n",
              "      <td>18</td>\n",
              "      <td>16078</td>\n",
              "      <td>3934</td>\n",
              "      <td>593323</td>\n",
              "      <td>117</td>\n",
              "      <td>54</td>\n",
              "      <td>1</td>\n",
              "    </tr>\n",
              "  </tbody>\n",
              "</table>\n",
              "</div>"
            ],
            "text/plain": [
              "  Creation_time  ...                              value_after_operation\n",
              "0    2019-02-20  ...                                                 90\n",
              "1    2019-02-18  ...                                                all\n",
              "2    2019-03-06  ...  281474976710655,281474976710655,28147497671065...\n",
              "4    2019-02-18  ...                                                 90\n",
              "5    2019-02-18  ...                                                  1\n",
              "\n",
              "[5 rows x 10 columns]"
            ]
          },
          "metadata": {
            "tags": []
          },
          "execution_count": 16
        }
      ]
    }
  ]
}